{
 "cells": [
  {
   "cell_type": "code",
   "execution_count": 37,
   "metadata": {},
   "outputs": [
    {
     "name": "stdout",
     "output_type": "stream",
     "text": [
      "Writing mapper_prueba.py\n"
     ]
    }
   ],
   "source": [
    "%%writefile mapper_prueba.py\n",
    "#! /usr/bin/env python\n",
    "\n",
    "##\n",
    "## Esta es la funcion que mapea la entrada a parejas (clave, valor)\n",
    "##\n",
    "import sys\n",
    "if __name__ == \"__main__\":\n",
    "    ##\n",
    "    ## itera sobre cada linea de codigo recibida\n",
    "    ## a traves del flujo de entrada\n",
    "    ##\n",
    "    for line in sys.stdin: \n",
    "        line = line.strip()\n",
    "        splits = line.split(\"   \")\n",
    "        visualizacion = splits[0] + '\\t' + splits[2]\n",
    "        sys.stdout.write(visualizacion + '\\n')"
   ]
  },
  {
   "cell_type": "code",
   "execution_count": 38,
   "metadata": {},
   "outputs": [],
   "source": [
    "!chmod +x mapper_prueba.py"
   ]
  },
  {
   "cell_type": "code",
   "execution_count": 39,
   "metadata": {},
   "outputs": [
    {
     "name": "stdout",
     "output_type": "stream",
     "text": [
      "A\t10.7\n",
      "A\t11.0\n",
      "A\t12.6\n",
      "A\t12.6\n",
      "A\t13.1\n",
      "A\t13.6\n",
      "A\t14.5\n",
      "A\t14.8\n",
      "A\t14.9\n",
      "A\t16.8\n",
      "A\t18.2\n",
      "A\t18.4\n",
      "B\t10.7\n",
      "B\t12.1\n",
      "B\t13.5\n",
      "B\t13.8\n",
      "B\t14.1\n",
      "B\t14.4\n",
      "B\t14.7\n",
      "B\t14.9\n",
      "B\t15.0\n",
      "B\t17.0\n",
      "C\t10.2\n",
      "C\t10.7\n",
      "C\t13.8\n",
      "C\t15.3\n",
      "D\t15.1\n",
      "E\t10.5\n",
      "E\t11.3\n",
      "E\t12.2\n",
      "E\t13.2\n",
      "E\t14.6\n",
      "E\t15.3\n",
      "E\t16.4\n",
      "E\t16.8\n",
      "E\t16.9\n",
      "E\t16.9\n",
      "E\t17.0\n",
      "E\t18.4\n",
      "E\t18.8\n"
     ]
    }
   ],
   "source": [
    "!cat ./data.csv | python3 ./mapper_prueba.py | sort"
   ]
  },
  {
   "cell_type": "code",
   "execution_count": 40,
   "metadata": {},
   "outputs": [
    {
     "name": "stdout",
     "output_type": "stream",
     "text": [
      "Writing reducer_prueba.py\n"
     ]
    }
   ],
   "source": [
    "%%writefile reducer_prueba.py\n",
    "#!/usr/bin/env python\n",
    "\n",
    "import sys\n",
    "\n",
    "##\n",
    "## Esta funcion reduce los elementos que\n",
    "## tienen la misma clave\n",
    "##\n",
    "\n",
    "if __name__ == '__main__':\n",
    "\n",
    "    curkey = None\n",
    "    total = 0\n",
    "    total1 = 99999999\n",
    "\n",
    "    ##\n",
    "    ## cada linea de texto recibida es una\n",
    "    ## entrada clave \\tabulador valor\n",
    "    ##\n",
    "    for line in sys.stdin:\n",
    "\n",
    "        key, val = line.split(\"\\t\")\n",
    "        val = float(val)\n",
    "\n",
    "        if key == curkey:\n",
    "            ##\n",
    "            ## No se ha cambiado de clave. Aca se\n",
    "            ## acumulan los valores para la misma clave.\n",
    "            ##\n",
    "            if val <= total1:\n",
    "                total1 = val\n",
    "            total = val\n",
    "        else:\n",
    "            ##\n",
    "            ## Se cambio de clave. Se reinicia el\n",
    "            ## acumulador.\n",
    "            ##\n",
    "            if curkey is not None:\n",
    "                ##\n",
    "                ## una vez se han reducido todos los elementos\n",
    "                ## con la misma clave se imprime el resultado en\n",
    "                ## el flujo de salida\n",
    "                ##\n",
    "                sys.stdout.write(\"{}\\t{}\\t{}\\n\".format(curkey, total, total1))\n",
    "\n",
    "            curkey = key\n",
    "            total = val\n",
    "            total1 = val\n",
    "\n",
    "    sys.stdout.write(\"{}\\t{}\\t{}\\n\".format(curkey, total, total1))"
   ]
  },
  {
   "cell_type": "code",
   "execution_count": 41,
   "metadata": {},
   "outputs": [],
   "source": [
    "!chmod +x reducer_prueba.py"
   ]
  },
  {
   "cell_type": "code",
   "execution_count": 42,
   "metadata": {},
   "outputs": [
    {
     "name": "stdout",
     "output_type": "stream",
     "text": [
      "A\t18.4\t10.7\n",
      "B\t17.0\t10.7\n",
      "C\t15.3\t10.2\n",
      "D\t15.1\t15.1\n",
      "E\t18.8\t10.5\n"
     ]
    }
   ],
   "source": [
    "!cat ./data.csv | python3 ./mapper_prueba.py | sort | python3 ./reducer_prueba.py | head"
   ]
  },
  {
   "cell_type": "code",
   "execution_count": null,
   "metadata": {},
   "outputs": [],
   "source": []
  }
 ],
 "metadata": {
  "kernelspec": {
   "display_name": "Python 3",
   "language": "python",
   "name": "python3"
  },
  "language_info": {
   "codemirror_mode": {
    "name": "ipython",
    "version": 3
   },
   "file_extension": ".py",
   "mimetype": "text/x-python",
   "name": "python",
   "nbconvert_exporter": "python",
   "pygments_lexer": "ipython3",
   "version": "3.6.9"
  }
 },
 "nbformat": 4,
 "nbformat_minor": 4
}
