{
 "cells": [
  {
   "cell_type": "code",
   "execution_count": 1,
   "metadata": {},
   "outputs": [
    {
     "name": "stdout",
     "output_type": "stream",
     "text": [
      "Overwriting mapper_prueba.py\n"
     ]
    }
   ],
   "source": [
    "%%writefile mapper_prueba.py\n",
    "#! /usr/bin/env python\n",
    "\n",
    "##\n",
    "## Esta es la funcion que mapea la entrada a parejas (clave, valor)\n",
    "##\n",
    "import sys\n",
    "if __name__ == \"__main__\":\n",
    "\n",
    "    for line in sys.stdin: \n",
    "        line = line.strip()\n",
    "        splits = line.split()\n",
    "        splits1 = int(splits[2])\n",
    "        if len(splits[2])==1:\n",
    "            splits[2] = '00' + splits[2]\n",
    "        if len(splits[2])==2:\n",
    "            splits[2] = '0' + splits[2]\n",
    "        visualizacion = splits[0] + '\\t' + splits[2] + '\\t' + splits[1]\n",
    "        sys.stdout.write(visualizacion + '\\n')"
   ]
  },
  {
   "cell_type": "code",
   "execution_count": 2,
   "metadata": {},
   "outputs": [],
   "source": [
    "!chmod +x mapper_prueba.py"
   ]
  },
  {
   "cell_type": "code",
   "execution_count": 3,
   "metadata": {},
   "outputs": [
    {
     "name": "stdout",
     "output_type": "stream",
     "text": [
      "A\t000\t1990-07-22\n",
      "A\t008\t1990-09-26\n",
      "A\t009\t1992-09-19\n",
      "A\t010\t1990-10-06\n",
      "A\t011\t1990-09-05\n",
      "A\t012\t1990-08-31\n",
      "A\t013\t1997-12-15\n",
      "A\t014\t1994-10-25\n",
      "A\t015\t1993-01-11\n",
      "A\t016\t1992-08-22\n",
      "A\t017\t1993-05-08\n",
      "A\t121\t1988-04-27\n",
      "B\t001\t1995-08-23\n",
      "B\t009\t1991-10-01\n",
      "B\t013\t1999-10-21\n",
      "B\t014\t1997-04-09\n",
      "B\t015\t1995-09-06\n",
      "B\t016\t1993-03-02\n",
      "B\t017\t1999-08-28\n",
      "B\t018\t1994-08-30\n",
      "B\t121\t1999-06-11\n",
      "B\t131\t1998-11-22\n",
      "C\t010\t1994-01-25\n",
      "C\t013\t1991-02-12\n",
      "C\t015\t1994-09-09\n",
      "C\t104\t1994-07-27\n",
      "D\t015\t1990-10-10\n",
      "E\t002\t1998-09-14\n",
      "E\t003\t1995-04-25\n",
      "E\t004\t1993-07-21\n",
      "E\t009\t1993-01-27\n",
      "E\t010\t1994-02-14\n",
      "E\t011\t1999-09-10\n",
      "E\t012\t1999-12-06\n",
      "E\t015\t1999-01-14\n",
      "E\t016\t1990-05-03\n",
      "E\t017\t1985-02-12\n",
      "E\t018\t1990-02-09\n",
      "E\t019\t1993-12-27\n",
      "E\t141\t1991-02-18\n"
     ]
    }
   ],
   "source": [
    "!cat ./data.csv | python3 ./mapper_prueba.py | sort"
   ]
  },
  {
   "cell_type": "code",
   "execution_count": 4,
   "metadata": {},
   "outputs": [
    {
     "name": "stdout",
     "output_type": "stream",
     "text": [
      "Overwriting reducer_prueba.py\n"
     ]
    }
   ],
   "source": [
    "%%writefile reducer_prueba.py\n",
    "#!/usr/bin/env python\n",
    "import sys\n",
    "if __name__ == '__main__':\n",
    "    for line in sys.stdin:\n",
    "        line = line.strip()\n",
    "        key, val,fec = line.split(\"\\t\")\n",
    "        #key = int(key)\n",
    "        val = int(val)\n",
    "        sys.stdout.write(\"{}\\t{}\\t{}\\n\".format(key,fec,val)) "
   ]
  },
  {
   "cell_type": "code",
   "execution_count": 5,
   "metadata": {},
   "outputs": [],
   "source": [
    "!chmod +x reducer_prueba.py"
   ]
  },
  {
   "cell_type": "code",
   "execution_count": 6,
   "metadata": {},
   "outputs": [
    {
     "name": "stdout",
     "output_type": "stream",
     "text": [
      "A\t1990-07-22\t0\n",
      "A\t1990-09-26\t8\n",
      "A\t1992-09-19\t9\n",
      "A\t1990-10-06\t10\n",
      "A\t1990-09-05\t11\n",
      "A\t1990-08-31\t12\n",
      "A\t1997-12-15\t13\n",
      "A\t1994-10-25\t14\n",
      "A\t1993-01-11\t15\n",
      "A\t1992-08-22\t16\n",
      "A\t1993-05-08\t17\n",
      "A\t1988-04-27\t121\n",
      "B\t1995-08-23\t1\n",
      "B\t1991-10-01\t9\n",
      "B\t1999-10-21\t13\n",
      "B\t1997-04-09\t14\n",
      "B\t1995-09-06\t15\n",
      "B\t1993-03-02\t16\n",
      "B\t1999-08-28\t17\n",
      "B\t1994-08-30\t18\n",
      "B\t1999-06-11\t121\n",
      "B\t1998-11-22\t131\n",
      "C\t1994-01-25\t10\n",
      "C\t1991-02-12\t13\n",
      "C\t1994-09-09\t15\n",
      "C\t1994-07-27\t104\n",
      "D\t1990-10-10\t15\n",
      "E\t1998-09-14\t2\n",
      "E\t1995-04-25\t3\n",
      "E\t1993-07-21\t4\n",
      "E\t1993-01-27\t9\n",
      "E\t1994-02-14\t10\n",
      "E\t1999-09-10\t11\n",
      "E\t1999-12-06\t12\n",
      "E\t1999-01-14\t15\n",
      "E\t1990-05-03\t16\n",
      "E\t1985-02-12\t17\n",
      "E\t1990-02-09\t18\n",
      "E\t1993-12-27\t19\n",
      "E\t1991-02-18\t141\n"
     ]
    }
   ],
   "source": [
    "!cat ./data.csv | python3 ./mapper_prueba.py | sort | python3 ./reducer_prueba.py"
   ]
  },
  {
   "cell_type": "code",
   "execution_count": null,
   "metadata": {},
   "outputs": [],
   "source": []
  }
 ],
 "metadata": {
  "kernelspec": {
   "display_name": "Python 3",
   "language": "python",
   "name": "python3"
  },
  "language_info": {
   "codemirror_mode": {
    "name": "ipython",
    "version": 3
   },
   "file_extension": ".py",
   "mimetype": "text/x-python",
   "name": "python",
   "nbconvert_exporter": "python",
   "pygments_lexer": "ipython3",
   "version": "3.6.9"
  }
 },
 "nbformat": 4,
 "nbformat_minor": 4
}
