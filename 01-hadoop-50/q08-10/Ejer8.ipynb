{
 "cells": [
  {
   "cell_type": "code",
   "execution_count": 1,
   "metadata": {},
   "outputs": [
    {
     "name": "stdout",
     "output_type": "stream",
     "text": [
      "Writing mapper_prueba.py\n"
     ]
    }
   ],
   "source": [
    "%%writefile mapper_prueba.py\n",
    "#! /usr/bin/env python\n",
    "\n",
    "##\n",
    "## Esta es la funcion que mapea la entrada a parejas (clave, valor)\n",
    "##\n",
    "import sys\n",
    "if __name__ == \"__main__\":\n",
    "    ##\n",
    "    ## itera sobre cada linea de codigo recibida\n",
    "    ## a traves del flujo de entrada\n",
    "    ##\n",
    "    for line in sys.stdin: \n",
    "        line = line.strip()\n",
    "        splits = line.split(\"   \")\n",
    "        #splits1 = int(splits[2])\n",
    "        visualizacion = splits[0] + '\\t' + splits[2] +'\\t1'\n",
    "        #val = int(val)\n",
    "        sys.stdout.write(visualizacion + '\\n')"
   ]
  },
  {
   "cell_type": "code",
   "execution_count": 2,
   "metadata": {},
   "outputs": [],
   "source": [
    "!chmod +x mapper_prueba.py"
   ]
  },
  {
   "cell_type": "code",
   "execution_count": 3,
   "metadata": {},
   "outputs": [
    {
     "name": "stdout",
     "output_type": "stream",
     "text": [
      "A\t10\t1\n",
      "A\t11\t1\n",
      "A\t12\t1\n",
      "A\t12\t1\n",
      "A\t13\t1\n",
      "A\t13\t1\n",
      "A\t14\t1\n",
      "A\t14\t1\n",
      "A\t14\t1\n",
      "A\t16\t1\n",
      "A\t18\t1\n",
      "A\t18\t1\n",
      "B\t10\t1\n",
      "B\t12\t1\n",
      "B\t13\t1\n",
      "B\t13\t1\n",
      "B\t14\t1\n",
      "B\t14\t1\n",
      "B\t14\t1\n",
      "B\t14\t1\n",
      "B\t15\t1\n",
      "B\t17\t1\n",
      "C\t10\t1\n",
      "C\t10\t1\n",
      "C\t13\t1\n",
      "C\t15\t1\n",
      "D\t15\t1\n",
      "E\t10\t1\n",
      "E\t11\t1\n",
      "E\t12\t1\n",
      "E\t13\t1\n",
      "E\t14\t1\n",
      "E\t15\t1\n",
      "E\t16\t1\n",
      "E\t16\t1\n",
      "E\t16\t1\n",
      "E\t16\t1\n",
      "E\t17\t1\n",
      "E\t18\t1\n",
      "E\t18\t1\n"
     ]
    }
   ],
   "source": [
    "!cat ./data.csv | python3 ./mapper_prueba.py | sort"
   ]
  },
  {
   "cell_type": "code",
   "execution_count": 25,
   "metadata": {},
   "outputs": [
    {
     "name": "stdout",
     "output_type": "stream",
     "text": [
      "Overwriting reducer_prueba.py\n"
     ]
    }
   ],
   "source": [
    "%%writefile reducer_prueba.py\n",
    "#!/usr/bin/env python\n",
    "\n",
    "import sys\n",
    "\n",
    "##\n",
    "## Esta funcion reduce los elementos que\n",
    "## tienen la misma clave\n",
    "##\n",
    "\n",
    "if __name__ == '__main__':\n",
    "\n",
    "    curkey = None\n",
    "    total = 0\n",
    "    conteo = 1\n",
    "\n",
    "    ##\n",
    "    ## cada linea de texto recibida es una\n",
    "    ## entrada clave \\tabulador valor\n",
    "    ##\n",
    "    for line in sys.stdin:\n",
    "\n",
    "        key, val, con = line.split(\"\\t\")\n",
    "        val = int(val)\n",
    "        con = float(con)\n",
    "\n",
    "        if key == curkey:\n",
    "            ## No se ha cambiado de clave. Aca se\n",
    "            ## acumulan los valores para la misma clave.\n",
    "            total += val\n",
    "            conteo += con\n",
    "            #prom = total/conteo\n",
    "        else:\n",
    "            ##\n",
    "            ## Se cambio de clave. Se reinicia el\n",
    "            ## acumulador.\n",
    "            ##\n",
    "            if curkey is not None:\n",
    "                ##\n",
    "                ## una vez se han reducido todos los elementos\n",
    "                ## con la misma clave se imprime el resultado en\n",
    "                ## el flujo de salida\n",
    "                ##\n",
    "                sys.stdout.write(\"{}\\t{}.0\\t{}\\n\".format(curkey, total, total/conteo))\n",
    "\n",
    "            curkey = key\n",
    "            total = val\n",
    "            conteo = con\n",
    "            #prom = total/conteo\n",
    "    \n",
    "    sys.stdout.write(\"{}\\t{}.0\\t{}\\n\".format(curkey, total, total/conteo))"
   ]
  },
  {
   "cell_type": "code",
   "execution_count": 26,
   "metadata": {},
   "outputs": [],
   "source": [
    "!chmod +x reducer_prueba.py"
   ]
  },
  {
   "cell_type": "code",
   "execution_count": 27,
   "metadata": {},
   "outputs": [
    {
     "name": "stdout",
     "output_type": "stream",
     "text": [
      "A\t165.0\t13.75\n",
      "B\t136.0\t13.6\n",
      "C\t48.0\t12.0\n",
      "D\t15.0\t15.0\n",
      "E\t192.0\t14.76923076923077\n"
     ]
    }
   ],
   "source": [
    "!cat ./data.csv | python3 ./mapper_prueba.py | sort | python3 ./reducer_prueba.py | head"
   ]
  },
  {
   "cell_type": "code",
   "execution_count": null,
   "metadata": {},
   "outputs": [],
   "source": []
  }
 ],
 "metadata": {
  "kernelspec": {
   "display_name": "Python 3",
   "language": "python",
   "name": "python3"
  },
  "language_info": {
   "codemirror_mode": {
    "name": "ipython",
    "version": 3
   },
   "file_extension": ".py",
   "mimetype": "text/x-python",
   "name": "python",
   "nbconvert_exporter": "python",
   "pygments_lexer": "ipython3",
   "version": "3.6.9"
  }
 },
 "nbformat": 4,
 "nbformat_minor": 4
}
