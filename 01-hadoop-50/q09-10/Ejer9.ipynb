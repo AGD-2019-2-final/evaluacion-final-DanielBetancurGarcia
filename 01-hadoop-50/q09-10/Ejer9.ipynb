{
 "cells": [
  {
   "cell_type": "code",
   "execution_count": 1,
   "metadata": {},
   "outputs": [
    {
     "name": "stdout",
     "output_type": "stream",
     "text": [
      "Writing mapper_prueba.py\n"
     ]
    }
   ],
   "source": [
    "%%writefile mapper_prueba.py\n",
    "#! /usr/bin/env python\n",
    "\n",
    "##\n",
    "## Esta es la funcion que mapea la entrada a parejas (clave, valor)\n",
    "##\n",
    "import sys\n",
    "if __name__ == \"__main__\":\n",
    "\n",
    "    for line in sys.stdin: \n",
    "        line = line.strip()\n",
    "        splits = line.split(\"   \")\n",
    "        splits1 = int(splits[2])\n",
    "        if len(splits[2])==1:\n",
    "            splits[2] = '00' + splits[2]\n",
    "        if len(splits[2])==2:\n",
    "            splits[2] = '0' + splits[2]\n",
    "        visualizacion = splits[2] + '\\t' + splits[0] + '\\t' + splits[1]\n",
    "        sys.stdout.write(visualizacion + '\\n')"
   ]
  },
  {
   "cell_type": "code",
   "execution_count": 2,
   "metadata": {},
   "outputs": [],
   "source": [
    "!chmod +x mapper_prueba.py"
   ]
  },
  {
   "cell_type": "code",
   "execution_count": 3,
   "metadata": {},
   "outputs": [
    {
     "name": "stdout",
     "output_type": "stream",
     "text": [
      "001\tC\t1994-07-27\n",
      "002\tC\t1991-02-12\n",
      "004\tA\t1990-07-22\n",
      "005\tA\t1990-09-26\n",
      "006\tB\t1997-04-09\n",
      "007\tE\t1998-09-14\n",
      "008\tE\t1993-01-27\n",
      "009\tA\t1988-04-27\n",
      "010\tA\t1990-10-06\n",
      "010\tC\t1994-01-25\n",
      "011\tA\t1990-09-05\n",
      "011\tE\t1999-09-10\n",
      "012\tA\t1990-08-31\n",
      "012\tB\t1999-06-11\n",
      "013\tA\t1994-10-25\n",
      "013\tA\t1997-12-15\n",
      "013\tB\t1998-11-22\n",
      "014\tA\t1992-08-22\n",
      "014\tB\t1993-03-02\n",
      "014\tB\t1999-08-28\n",
      "014\tE\t1991-02-18\n",
      "015\tE\t1999-01-14\n",
      "016\tA\t1993-05-08\n",
      "016\tE\t1985-02-12\n",
      "016\tE\t1990-05-03\n",
      "017\tB\t1994-08-30\n",
      "017\tE\t1993-07-21\n",
      "018\tA\t1992-09-19\n",
      "018\tE\t1990-02-09\n",
      "101\tB\t1995-08-23\n",
      "101\tE\t1994-02-14\n",
      "121\tE\t1999-12-06\n",
      "131\tB\t1999-10-21\n",
      "141\tA\t1993-01-11\n",
      "141\tB\t1995-09-06\n",
      "151\tB\t1991-10-01\n",
      "151\tC\t1994-09-09\n",
      "151\tD\t1990-10-10\n",
      "161\tE\t1995-04-25\n",
      "181\tE\t1993-12-27\n"
     ]
    }
   ],
   "source": [
    "!cat ./data.csv | python3 ./mapper_prueba.py | sort"
   ]
  },
  {
   "cell_type": "code",
   "execution_count": 7,
   "metadata": {},
   "outputs": [
    {
     "name": "stdout",
     "output_type": "stream",
     "text": [
      "Overwriting reducer_prueba.py\n"
     ]
    }
   ],
   "source": [
    "%%writefile reducer_prueba.py\n",
    "#!/usr/bin/env python\n",
    "\n",
    "import sys\n",
    "\n",
    "##\n",
    "## Esta funcion reduce los elementos que\n",
    "## tienen la misma clave\n",
    "##\n",
    "if __name__ == '__main__':\n",
    "\n",
    "    conteo = 0\n",
    "    for line in sys.stdin:\n",
    "        line = line.strip()\n",
    "        val, key, fec = line.split(\"\\t\")\n",
    "        val = int(val)\n",
    "        conteo = conteo + 1\n",
    "        if conteo == 6:\n",
    "            break\n",
    "        sys.stdout.write(\"{}\\t{}\\t{}\\n\".format(key,fec,val))"
   ]
  },
  {
   "cell_type": "code",
   "execution_count": 8,
   "metadata": {},
   "outputs": [],
   "source": [
    "!chmod +x reducer_prueba.py"
   ]
  },
  {
   "cell_type": "code",
   "execution_count": 9,
   "metadata": {},
   "outputs": [
    {
     "name": "stdout",
     "output_type": "stream",
     "text": [
      "C\t1994-07-27\t1\n",
      "C\t1991-02-12\t2\n",
      "A\t1990-07-22\t4\n",
      "A\t1990-09-26\t5\n",
      "B\t1997-04-09\t6\n"
     ]
    }
   ],
   "source": [
    "!cat ./data.csv | python3 ./mapper_prueba.py | sort | python3 ./reducer_prueba.py"
   ]
  },
  {
   "cell_type": "code",
   "execution_count": null,
   "metadata": {},
   "outputs": [],
   "source": []
  }
 ],
 "metadata": {
  "kernelspec": {
   "display_name": "Python 3",
   "language": "python",
   "name": "python3"
  },
  "language_info": {
   "codemirror_mode": {
    "name": "ipython",
    "version": 3
   },
   "file_extension": ".py",
   "mimetype": "text/x-python",
   "name": "python",
   "nbconvert_exporter": "python",
   "pygments_lexer": "ipython3",
   "version": "3.6.9"
  }
 },
 "nbformat": 4,
 "nbformat_minor": 4
}
