{
 "cells": [
  {
   "cell_type": "code",
   "execution_count": 7,
   "metadata": {},
   "outputs": [
    {
     "name": "stdout",
     "output_type": "stream",
     "text": [
      "Overwriting mapper_prueba.py\n"
     ]
    }
   ],
   "source": [
    "%%writefile mapper_prueba.py\n",
    "#! /usr/bin/env python\n",
    "\n",
    "##\n",
    "## Esta es la funcion que mapea la entrada a parejas (clave, valor)\n",
    "##\n",
    "import sys\n",
    "if __name__ == \"__main__\":\n",
    "    ##\n",
    "    ## itera sobre cada linea de codigo recibida\n",
    "    ## a traves del flujo de entrada\n",
    "    ##\n",
    "    for line in sys.stdin: \n",
    "        line = line.strip()\n",
    "        splits = line.split(\"   \")\n",
    "        visualizacion = splits[0] + '\\t1'\n",
    "        sys.stdout.write(visualizacion + '\\n')"
   ]
  },
  {
   "cell_type": "code",
   "execution_count": 8,
   "metadata": {},
   "outputs": [],
   "source": [
    "!chmod +x mapper_prueba.py"
   ]
  },
  {
   "cell_type": "code",
   "execution_count": 9,
   "metadata": {},
   "outputs": [
    {
     "name": "stdout",
     "output_type": "stream",
     "text": [
      "A\t1\n",
      "A\t1\n",
      "A\t1\n",
      "A\t1\n",
      "A\t1\n",
      "A\t1\n",
      "A\t1\n",
      "A\t1\n",
      "A\t1\n",
      "A\t1\n",
      "A\t1\n",
      "A\t1\n",
      "B\t1\n",
      "B\t1\n",
      "B\t1\n",
      "B\t1\n",
      "B\t1\n",
      "B\t1\n",
      "B\t1\n",
      "B\t1\n",
      "B\t1\n",
      "B\t1\n",
      "C\t1\n",
      "C\t1\n",
      "C\t1\n",
      "C\t1\n",
      "D\t1\n",
      "E\t1\n",
      "E\t1\n",
      "E\t1\n",
      "E\t1\n",
      "E\t1\n",
      "E\t1\n",
      "E\t1\n",
      "E\t1\n",
      "E\t1\n",
      "E\t1\n",
      "E\t1\n",
      "E\t1\n",
      "E\t1\n"
     ]
    }
   ],
   "source": [
    "!cat ./data.csv | python3 ./mapper_prueba.py | sort"
   ]
  },
  {
   "cell_type": "code",
   "execution_count": 19,
   "metadata": {},
   "outputs": [
    {
     "name": "stdout",
     "output_type": "stream",
     "text": [
      "Overwriting reducer_prueba.py\n"
     ]
    }
   ],
   "source": [
    "%%writefile reducer_prueba.py\n",
    "#!/usr/bin/env python\n",
    "import sys\n",
    "if __name__ == '__main__':\n",
    "\n",
    "    curkey = None\n",
    "    total = 0\n",
    "    for line in sys.stdin:\n",
    "\n",
    "        key, val = line.split(\"\\t\")\n",
    "        val = int(val)\n",
    "\n",
    "        if key == curkey:\n",
    "            ##\n",
    "            ## No se ha cambiado de clave. Aca se\n",
    "            ## acumulan los valores para la misma clave.\n",
    "            ##\n",
    "            total += val\n",
    "        else:\n",
    "            ##\n",
    "            ## Se cambio de clave. Se reinicia el\n",
    "            ## acumulador.\n",
    "            ##\n",
    "            if curkey is not None:\n",
    "                ##\n",
    "                ## una vez se han reducido todos los elementos\n",
    "                ## con la misma clave se imprime el resultado en\n",
    "                ## el flujo de salida\n",
    "                ##\n",
    "                sys.stdout.write(\"{}\\t{}\\n\".format(curkey, total))\n",
    "\n",
    "            curkey = key\n",
    "            total = val\n",
    "\n",
    "    sys.stdout.write(\"{}\\t{}\\n\".format(curkey, total))"
   ]
  },
  {
   "cell_type": "code",
   "execution_count": 20,
   "metadata": {},
   "outputs": [],
   "source": [
    "!chmod +x reducer_prueba.py"
   ]
  },
  {
   "cell_type": "code",
   "execution_count": 21,
   "metadata": {},
   "outputs": [
    {
     "name": "stdout",
     "output_type": "stream",
     "text": [
      "A\t12\n",
      "B\t10\n",
      "C\t4\n",
      "D\t1\n",
      "E\t13\n"
     ]
    }
   ],
   "source": [
    "!cat ./data.csv | python3 ./mapper_prueba.py | sort | python3 ./reducer_prueba.py"
   ]
  },
  {
   "cell_type": "code",
   "execution_count": null,
   "metadata": {},
   "outputs": [],
   "source": []
  }
 ],
 "metadata": {
  "kernelspec": {
   "display_name": "Python 3",
   "language": "python",
   "name": "python3"
  },
  "language_info": {
   "codemirror_mode": {
    "name": "ipython",
    "version": 3
   },
   "file_extension": ".py",
   "mimetype": "text/x-python",
   "name": "python",
   "nbconvert_exporter": "python",
   "pygments_lexer": "ipython3",
   "version": "3.6.9"
  }
 },
 "nbformat": 4,
 "nbformat_minor": 4
}
