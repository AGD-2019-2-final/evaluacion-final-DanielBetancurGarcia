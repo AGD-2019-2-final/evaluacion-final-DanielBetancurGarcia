{
 "cells": [
  {
   "cell_type": "code",
   "execution_count": 1,
   "metadata": {},
   "outputs": [],
   "source": [
    "%load_ext bigdata"
   ]
  },
  {
   "cell_type": "code",
   "execution_count": 2,
   "metadata": {},
   "outputs": [],
   "source": [
    "%pig_start"
   ]
  },
  {
   "cell_type": "code",
   "execution_count": 3,
   "metadata": {},
   "outputs": [],
   "source": [
    "%timeout 300"
   ]
  },
  {
   "cell_type": "code",
   "execution_count": 4,
   "metadata": {},
   "outputs": [],
   "source": [
    "!rm -rf output"
   ]
  },
  {
   "cell_type": "code",
   "execution_count": 5,
   "metadata": {},
   "outputs": [
    {
     "name": "stdout",
     "output_type": "stream",
     "text": [
      "Overwriting script.pig\n"
     ]
    }
   ],
   "source": [
    "%%writefile script.pig\n",
    "\n",
    "-- copia los archivos del sistema local al HDFS\n",
    "fs -put ./truck_event_text_partition.csv\n",
    "\n",
    "data = LOAD 'truck_event_text_partition.csv' using PigStorage(',') AS (driverId:INT, truckId:INT, eventTime:CHARARRAY,\n",
    "                                                                        eventType:CHARARRAY, longitude:CHARARRAY, latitude:CHARARRAY,\n",
    "                                                                        eventKey:CHARARRAY, correlationId:CHARARRAY, driverName:CHARARRAY,\n",
    "                                                                        routeId:CHARARRAY, routeName:CHARARRAY, eventDate:CHARARRAY);\n",
    "data1 = FOREACH data GENERATE driverId, truckId, eventTime;\n",
    "data2 = LIMIT data1 10;\n",
    "data3 = ORDER data2 BY driverId, truckId, eventTime;\n",
    "STORE data3 INTO 'output';\n",
    "-- copia los archivos del HDFS al sistema local\n",
    "fs -get output/ ."
   ]
  },
  {
   "cell_type": "code",
   "execution_count": 6,
   "metadata": {},
   "outputs": [
    {
     "name": "stdout",
     "output_type": "stream",
     "text": [
      "2020-01-23 04:25:50,376 [main] INFO  org.apache.hadoop.conf.Configuration.deprecation - mapred.job.tracker is deprecated. Instead, use mapreduce.jobtracker.address\n",
      "put: `truck_event_text_partition.csv': File exists\n",
      "2020-01-23 04:25:51,765 [main] ERROR org.apache.pig.tools.grunt.Grunt - ERROR 2997: Encountered IOException. fs command '-put ./truck_event_text_partition.csv' failed. Please check output logs for details\n",
      "Details at logfile: /datalake/evaluacion-final-DanielBetancurGarcia/02-pig-50/q04-10/pig_1579753549325.log\n"
     ]
    }
   ],
   "source": [
    "!pig -execute 'run script.pig'"
   ]
  },
  {
   "cell_type": "code",
   "execution_count": null,
   "metadata": {},
   "outputs": [],
   "source": [
    "!hadoop fs -ls output/*"
   ]
  },
  {
   "cell_type": "code",
   "execution_count": null,
   "metadata": {},
   "outputs": [],
   "source": [
    "!hadoop fs -cat output/part-r-00000"
   ]
  }
 ],
 "metadata": {
  "kernelspec": {
   "display_name": "Python 3",
   "language": "python",
   "name": "python3"
  },
  "language_info": {
   "codemirror_mode": {
    "name": "ipython",
    "version": 3
   },
   "file_extension": ".py",
   "mimetype": "text/x-python",
   "name": "python",
   "nbconvert_exporter": "python",
   "pygments_lexer": "ipython3",
   "version": "3.7.3"
  }
 },
 "nbformat": 4,
 "nbformat_minor": 4
}
